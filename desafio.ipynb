{
 "cells": [
  {
   "cell_type": "markdown",
   "id": "a209b47a",
   "metadata": {},
   "source": [
    "## Etapa 01) Importação e Exploração Inicial da Base\n",
    "\n",
    "Antes de qualquer análise, é fundamental entender a estrutura dos dados com os quais você está lidando. Nesta etapa, seu foco será **importar o dataset** e realizar uma primeira exploração para verificar:\n",
    "\n",
    "- Quais colunas estão disponíveis?\n",
    "- Quantas linhas existem?\n",
    "- Existem dados ausentes?\n",
    "- Quais são os tipos de variáveis?"
   ]
  },
  {
   "cell_type": "code",
   "execution_count": 1,
   "id": "17fef031",
   "metadata": {},
   "outputs": [],
   "source": [
    "import pandas as pd\n",
    "import numpy as np"
   ]
  },
  {
   "cell_type": "code",
   "execution_count": 2,
   "id": "a5b6ce3f",
   "metadata": {},
   "outputs": [],
   "source": [
    "df = pd.read_csv(\"./salario_profissionais_dados.csv\", sep=\",\", header=0)"
   ]
  },
  {
   "cell_type": "code",
   "execution_count": 3,
   "id": "89d46025",
   "metadata": {},
   "outputs": [
    {
     "data": {
      "text/html": [
       "<div>\n",
       "<style scoped>\n",
       "    .dataframe tbody tr th:only-of-type {\n",
       "        vertical-align: middle;\n",
       "    }\n",
       "\n",
       "    .dataframe tbody tr th {\n",
       "        vertical-align: top;\n",
       "    }\n",
       "\n",
       "    .dataframe thead th {\n",
       "        text-align: right;\n",
       "    }\n",
       "</style>\n",
       "<table border=\"1\" class=\"dataframe\">\n",
       "  <thead>\n",
       "    <tr style=\"text-align: right;\">\n",
       "      <th></th>\n",
       "      <th>work_year</th>\n",
       "      <th>country</th>\n",
       "      <th>region</th>\n",
       "      <th>experience_level</th>\n",
       "      <th>job_title</th>\n",
       "      <th>salary_in_usd</th>\n",
       "      <th>employee_residence</th>\n",
       "      <th>company_location</th>\n",
       "      <th>company_size</th>\n",
       "      <th>years_of_experience</th>\n",
       "    </tr>\n",
       "  </thead>\n",
       "  <tbody>\n",
       "    <tr>\n",
       "      <th>0</th>\n",
       "      <td>2023</td>\n",
       "      <td>Spain</td>\n",
       "      <td>Europe</td>\n",
       "      <td>SE</td>\n",
       "      <td>Principal Data Scientist</td>\n",
       "      <td>85847</td>\n",
       "      <td>ES</td>\n",
       "      <td>ES</td>\n",
       "      <td>L</td>\n",
       "      <td>8</td>\n",
       "    </tr>\n",
       "    <tr>\n",
       "      <th>1</th>\n",
       "      <td>2023</td>\n",
       "      <td>United States of America</td>\n",
       "      <td>Americas</td>\n",
       "      <td>MI</td>\n",
       "      <td>ML Engineer</td>\n",
       "      <td>30000</td>\n",
       "      <td>US</td>\n",
       "      <td>US</td>\n",
       "      <td>S</td>\n",
       "      <td>5</td>\n",
       "    </tr>\n",
       "    <tr>\n",
       "      <th>2</th>\n",
       "      <td>2023</td>\n",
       "      <td>United States of America</td>\n",
       "      <td>Americas</td>\n",
       "      <td>MI</td>\n",
       "      <td>ML Engineer</td>\n",
       "      <td>25500</td>\n",
       "      <td>US</td>\n",
       "      <td>US</td>\n",
       "      <td>S</td>\n",
       "      <td>3</td>\n",
       "    </tr>\n",
       "    <tr>\n",
       "      <th>3</th>\n",
       "      <td>2023</td>\n",
       "      <td>Canada</td>\n",
       "      <td>Americas</td>\n",
       "      <td>SE</td>\n",
       "      <td>Data Scientist</td>\n",
       "      <td>175000</td>\n",
       "      <td>CA</td>\n",
       "      <td>CA</td>\n",
       "      <td>M</td>\n",
       "      <td>8</td>\n",
       "    </tr>\n",
       "    <tr>\n",
       "      <th>4</th>\n",
       "      <td>2023</td>\n",
       "      <td>Canada</td>\n",
       "      <td>Americas</td>\n",
       "      <td>SE</td>\n",
       "      <td>Data Scientist</td>\n",
       "      <td>120000</td>\n",
       "      <td>CA</td>\n",
       "      <td>CA</td>\n",
       "      <td>M</td>\n",
       "      <td>8</td>\n",
       "    </tr>\n",
       "  </tbody>\n",
       "</table>\n",
       "</div>"
      ],
      "text/plain": [
       "   work_year                   country    region experience_level  \\\n",
       "0       2023                     Spain    Europe               SE   \n",
       "1       2023  United States of America  Americas               MI   \n",
       "2       2023  United States of America  Americas               MI   \n",
       "3       2023                    Canada  Americas               SE   \n",
       "4       2023                    Canada  Americas               SE   \n",
       "\n",
       "                  job_title  salary_in_usd employee_residence  \\\n",
       "0  Principal Data Scientist          85847                 ES   \n",
       "1               ML Engineer          30000                 US   \n",
       "2               ML Engineer          25500                 US   \n",
       "3            Data Scientist         175000                 CA   \n",
       "4            Data Scientist         120000                 CA   \n",
       "\n",
       "  company_location company_size  years_of_experience  \n",
       "0               ES            L                    8  \n",
       "1               US            S                    5  \n",
       "2               US            S                    3  \n",
       "3               CA            M                    8  \n",
       "4               CA            M                    8  "
      ]
     },
     "execution_count": 3,
     "metadata": {},
     "output_type": "execute_result"
    }
   ],
   "source": [
    "df.head(5)"
   ]
  },
  {
   "cell_type": "code",
   "execution_count": 5,
   "id": "3d2c99ff",
   "metadata": {},
   "outputs": [
    {
     "name": "stdout",
     "output_type": "stream",
     "text": [
      "<class 'pandas.core.frame.DataFrame'>\n",
      "RangeIndex: 3755 entries, 0 to 3754\n",
      "Data columns (total 10 columns):\n",
      " #   Column               Non-Null Count  Dtype \n",
      "---  ------               --------------  ----- \n",
      " 0   work_year            3755 non-null   int64 \n",
      " 1   country              3755 non-null   object\n",
      " 2   region               3755 non-null   object\n",
      " 3   experience_level     3755 non-null   object\n",
      " 4   job_title            3755 non-null   object\n",
      " 5   salary_in_usd        3755 non-null   int64 \n",
      " 6   employee_residence   3755 non-null   object\n",
      " 7   company_location     3755 non-null   object\n",
      " 8   company_size         3755 non-null   object\n",
      " 9   years_of_experience  3755 non-null   int64 \n",
      "dtypes: int64(3), object(7)\n",
      "memory usage: 293.5+ KB\n"
     ]
    }
   ],
   "source": [
    "df.info()"
   ]
  },
  {
   "cell_type": "code",
   "execution_count": 6,
   "id": "b6b64155",
   "metadata": {},
   "outputs": [
    {
     "data": {
      "text/plain": [
       "(3755, 10)"
      ]
     },
     "execution_count": 6,
     "metadata": {},
     "output_type": "execute_result"
    }
   ],
   "source": [
    "df.shape"
   ]
  },
  {
   "cell_type": "code",
   "execution_count": 7,
   "id": "7a918bc0",
   "metadata": {},
   "outputs": [
    {
     "data": {
      "text/plain": [
       "work_year              0\n",
       "country                0\n",
       "region                 0\n",
       "experience_level       0\n",
       "job_title              0\n",
       "salary_in_usd          0\n",
       "employee_residence     0\n",
       "company_location       0\n",
       "company_size           0\n",
       "years_of_experience    0\n",
       "dtype: int64"
      ]
     },
     "execution_count": 7,
     "metadata": {},
     "output_type": "execute_result"
    }
   ],
   "source": [
    "df.isnull().sum()"
   ]
  },
  {
   "cell_type": "markdown",
   "id": "e04f2d4b",
   "metadata": {},
   "source": [
    "## Etapa 02) **Frequência e Distribuição das Categorias**\n",
    "\n",
    "Agora que você já conhece a base, vamos explorar as variáveis **categóricas** — aquelas que representam grupos ou classificações, como os **cargos dos profissionais**.\n",
    "\n",
    "Seu objetivo aqui é responder perguntas como:\n",
    "\n",
    "- Cargos mais comuns\n",
    "- Nível de experiência\n",
    "- Tamanho da empresa\n",
    "\n",
    "Essas informações ajudam a entender o perfil predominante da base e fornecem contexto para análises salariais futuras."
   ]
  },
  {
   "cell_type": "code",
   "execution_count": 11,
   "id": "8e7f763b",
   "metadata": {},
   "outputs": [
    {
     "data": {
      "text/plain": [
       "work_year  country                   region    experience_level  job_title       salary_in_usd  employee_residence  company_location  company_size  years_of_experience\n",
       "2022       United States of America  Americas  SE                Data Scientist  141525         US                  US                M             6                      11\n",
       "2023       United States of America  Americas  SE                Data Engineer   160000         US                  US                M             6                      10\n",
       "2022       United States of America  Americas  SE                Data Scientist  141525         US                  US                M             7                       9\n",
       "                                                                                 191475         US                  US                M             7                       8\n",
       "                                                                 Data Engineer   130000         US                  US                M             7                       8\n",
       "                                                                 Data Scientist  191475         US                  US                M             8                       8\n",
       "2023       United States of America  Americas  SE                Data Engineer   129000         US                  US                M             6                       8\n",
       "2022       United States of America  Americas  SE                Data Scientist  140000         US                  US                M             8                       7\n",
       "2023       United States of America  Americas  SE                Data Engineer   252000         US                  US                M             6                       6\n",
       "                                                                 Data Scientist  175000         US                  US                M             7                       6\n",
       "Name: count, dtype: int64"
      ]
     },
     "execution_count": 11,
     "metadata": {},
     "output_type": "execute_result"
    }
   ],
   "source": [
    "df.value_counts().head(10)"
   ]
  },
  {
   "cell_type": "code",
   "execution_count": 10,
   "id": "c9f22b54",
   "metadata": {},
   "outputs": [
    {
     "data": {
      "text/plain": [
       "job_title\n",
       "Data Engineer                27.696405\n",
       "Data Scientist               22.370173\n",
       "Data Analyst                 16.298269\n",
       "Machine Learning Engineer     7.696405\n",
       "Analytics Engineer            2.743009\n",
       "Data Architect                2.689747\n",
       "Research Scientist            2.183755\n",
       "Applied Scientist             1.544607\n",
       "Data Science Manager          1.544607\n",
       "Research Engineer             0.985353\n",
       "Name: proportion, dtype: float64"
      ]
     },
     "execution_count": 10,
     "metadata": {},
     "output_type": "execute_result"
    }
   ],
   "source": [
    "df['job_title'].value_counts(normalize=True).head(10) * 100"
   ]
  },
  {
   "cell_type": "markdown",
   "id": "4a450875",
   "metadata": {},
   "source": [
    "## **Etapa 03) Estatísticas Descritivas**\n",
    "\n",
    "A principal variável numérica da base é `salary_in_usd`. Nesta etapa, você vai se aprofundar na análise estatística dessa variável para entender como os salários estão distribuídos.\n",
    "\n",
    "- **Medidas de tendência central:** média, mediana\n",
    "- **Medidas de dispersão:** desvio padrão, mínimo e máximo\n",
    "- **Distribuição geral:** através de histogramas\n",
    "- **Comparações por grupos:** especialmente por nível de experiência (usando boxplots)"
   ]
  },
  {
   "cell_type": "code",
   "execution_count": 12,
   "id": "308a0619",
   "metadata": {},
   "outputs": [
    {
     "data": {
      "text/plain": [
       "company_size\n",
       "L    118300.982379\n",
       "M    143130.548367\n",
       "S     78226.682432\n",
       "Name: salary_in_usd, dtype: float64"
      ]
     },
     "execution_count": 12,
     "metadata": {},
     "output_type": "execute_result"
    }
   ],
   "source": [
    "# Comparando a média salarial por tamanho da empresa\n",
    "df.groupby('company_size')['salary_in_usd'].mean()"
   ]
  },
  {
   "cell_type": "code",
   "execution_count": 13,
   "id": "69ce255b",
   "metadata": {},
   "outputs": [
    {
     "name": "stdout",
     "output_type": "stream",
     "text": [
      "Média salarial: 137570.39\n",
      "Mediana salarial: 135000.00\n"
     ]
    }
   ],
   "source": [
    "# Média e mediana da variável salary_in_usd\n",
    "media = df['salary_in_usd'].mean()\n",
    "mediana = df['salary_in_usd'].median()\n",
    "print(f\"Média salarial: {media:.2f}\")\n",
    "print(f\"Mediana salarial: {mediana:.2f}\")"
   ]
  },
  {
   "cell_type": "code",
   "execution_count": 14,
   "id": "5d513366",
   "metadata": {},
   "outputs": [
    {
     "name": "stdout",
     "output_type": "stream",
     "text": [
      "Desvio padrão: 63055.63\n",
      "Salário mínimo: 5132\n",
      "Salário máximo: 450000\n"
     ]
    }
   ],
   "source": [
    "# Medidas de dispersão da variável salary_in_usd\n",
    "desvio_padrao = df['salary_in_usd'].std()\n",
    "minimo = df['salary_in_usd'].min()\n",
    "maximo = df['salary_in_usd'].max()\n",
    "print(f\"Desvio padrão: {desvio_padrao:.2f}\")\n",
    "print(f\"Salário mínimo: {minimo}\")\n",
    "print(f\"Salário máximo: {maximo}\")"
   ]
  },
  {
   "cell_type": "code",
   "execution_count": 15,
   "id": "c71a342a",
   "metadata": {},
   "outputs": [
    {
     "data": {
      "image/png": "[encoded data removed]",
      "text/plain": [
       "<Figure size 1000x600 with 1 Axes>"
      ]
     },
     "metadata": {},
     "output_type": "display_data"
    }
   ],
   "source": [
    "import matplotlib.pyplot as plt\n",
    "\n",
    "plt.figure(figsize=(10, 6))\n",
    "plt.hist(df['salary_in_usd'], bins=30, color='skyblue', edgecolor='black')\n",
    "plt.title('Distribuição dos Salários em USD')\n",
    "plt.xlabel('Salário em USD')\n",
    "plt.ylabel('Frequência')\n",
    "plt.grid(axis='y', linestyle='--', alpha=0.7)\n",
    "plt.show()"
   ]
  },
  {
   "cell_type": "code",
   "execution_count": 16,
   "id": "365dd02b",
   "metadata": {},
   "outputs": [
    {
     "data": {
      "text/plain": [
       "<Figure size 1000x600 with 0 Axes>"
      ]
     },
     "metadata": {},
     "output_type": "display_data"
    },
    {
     "data": {
      "image/png": "[encoded data removed]",
      "text/plain": [
       "<Figure size 640x480 with 1 Axes>"
      ]
     },
     "metadata": {},
     "output_type": "display_data"
    }
   ],
   "source": [
    "plt.figure(figsize=(10, 6))\n",
    "df.boxplot(column='salary_in_usd', by='experience_level', grid=False)\n",
    "plt.title('Distribuição Salarial por Nível de Experiência')\n",
    "plt.suptitle('')\n",
    "plt.xlabel('Nível de Experiência')\n",
    "plt.ylabel('Salário em USD')\n",
    "plt.show()"
   ]
  },
  {
   "cell_type": "markdown",
   "id": "939e52b5",
   "metadata": {},
   "source": [
    "## **Etapa 04)  Comparações por País**\n",
    "\n",
    "Agora que você já entendeu os salários em geral, é hora de investigar **como eles variam entre diferentes grupos**.\n",
    "\n",
    "Nesta etapa, seu objetivo será:\n",
    "\n",
    "- Verificar os **10 países** com as maiores médias salariais\n",
    "\n",
    "Essas comparações são fundamentais para entender onde estão os maiores salários — seja em termos de função ou localização geográfica.\n",
    "\n",
    "<aside>\n",
    "\n",
    "\n",
    "</aside>"
   ]
  },
  {
   "cell_type": "code",
   "execution_count": 18,
   "id": "71ef0095",
   "metadata": {},
   "outputs": [
    {
     "name": "stdout",
     "output_type": "stream",
     "text": [
      "country\n",
      "Israel                      423834.000000\n",
      "Malaysia                    200000.000000\n",
      "Puerto Rico                 166000.000000\n",
      "United States of America    152822.011651\n",
      "Canada                      132222.905882\n",
      "China                       125404.000000\n",
      "New Zealand                 125000.000000\n",
      "Bosnia and Herzegovina      120000.000000\n",
      "Ireland                     114943.428571\n",
      "Dominican Republic          110000.000000\n",
      "Name: salary_in_usd, dtype: float64\n"
     ]
    }
   ],
   "source": [
    "# Top 10 países com as maiores médias salariais\n",
    "top10_paises = df.groupby('country')['salary_in_usd'].mean().sort_values(ascending=False).head(10)\n",
    "print(top10_paises)"
   ]
  },
  {
   "cell_type": "markdown",
   "id": "5eaf8a77",
   "metadata": {},
   "source": [
    "## **Etapa 05) Correlações e Tendências**\n",
    "\n",
    "Por fim, vamos analisar se existe alguma relação entre salário e outras variáveis **quantitativas** da base.\n",
    "\n",
    "As perguntas principais aqui são:\n",
    "\n",
    "- Existe alguma **tendência de aumento salarial com os anos?**\n",
    "- Quanto maior o tempo de experiência, maior o salário?\n",
    "\n",
    "Você irá utilizar uma **matriz de correlação** para investigar essas relações e interpretar os coeficientes gerados."
   ]
  },
  {
   "cell_type": "code",
   "execution_count": 19,
   "id": "1b09d708",
   "metadata": {},
   "outputs": [
    {
     "name": "stdout",
     "output_type": "stream",
     "text": [
      "                     salary_in_usd  work_year  years_of_experience\n",
      "salary_in_usd             1.000000   0.228290             0.410723\n",
      "work_year                 0.228290   1.000000             0.178878\n",
      "years_of_experience       0.410723   0.178878             1.000000\n"
     ]
    }
   ],
   "source": [
    "# Matriz de correlação entre salário, ano e tempo de experiência\n",
    "correlacao = df[['salary_in_usd', 'work_year', 'years_of_experience']].corr()\n",
    "print(correlacao)"
   ]
  }
 ],
 "metadata": {
  "kernelspec": {
   "display_name": "Python 3",
   "language": "python",
   "name": "python3"
  },
  "language_info": {
   "codemirror_mode": {
    "name": "ipython",
    "version": 3
   },
   "file_extension": ".py",
   "mimetype": "text/x-python",
   "name": "python",
   "nbconvert_exporter": "python",
   "pygments_lexer": "ipython3",
   "version": "3.13.3"
  }
 },
 "nbformat": 4,
 "nbformat_minor": 5
}
